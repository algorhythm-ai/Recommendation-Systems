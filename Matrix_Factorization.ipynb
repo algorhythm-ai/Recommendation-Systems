{
  "nbformat": 4,
  "nbformat_minor": 0,
  "metadata": {
    "colab": {
      "name": "Matrix Factorization.ipynb",
      "provenance": [],
      "collapsed_sections": []
    },
    "kernelspec": {
      "name": "python3",
      "display_name": "Python 3"
    },
    "language_info": {
      "name": "python"
    }
  },
  "cells": [
    {
      "cell_type": "code",
      "metadata": {
        "id": "dS9zx2kMSImn"
      },
      "source": [
        "import tensorflow as tf\n",
        "from tensorflow.keras import Model, layers, regularizers, optimizers, metrics\n",
        "import matplotlib.pyplot as plt\n",
        "import pandas as pd\n",
        "import os\n",
        "import requests\n",
        "import io\n",
        "from zipfile import ZipFile"
      ],
      "execution_count": null,
      "outputs": []
    },
    {
      "cell_type": "code",
      "metadata": {
        "id": "_-aFVOiDSqnF"
      },
      "source": [
        "url = 'https://files.grouplens.org/datasets/movielens/ml-100k.zip'\n",
        "r = requests.get(url)\n",
        "z = ZipFile(io.BytesIO(r.content))\n",
        "z.extractall()"
      ],
      "execution_count": null,
      "outputs": []
    },
    {
      "cell_type": "code",
      "metadata": {
        "id": "z73kts1nYBNR"
      },
      "source": [
        "names = ['user_id', 'item_id', 'rating', 'timestamp']\n",
        "data = pd.read_csv('./ml-100k/u.data', '\\t', names=names)\n",
        "num_users = len(data.user_id.unique())\n",
        "num_items = len(data.item_id.unique())\n",
        "\n",
        "data = data.sample(frac=1)\n",
        "train_indices = int(0.9 * data.shape[0])\n",
        "\n",
        "train_data = data[:train_indices]\n",
        "test_data = data[train_indices:]\n",
        "\n",
        "x_train, y_train, x_test, y_test = (\n",
        "    train_data[['user_id', 'item_id']].values - 1,\n",
        "    train_data['rating'].values,\n",
        "    test_data[['user_id', 'item_id']].values - 1,\n",
        "    test_data['rating'].values\n",
        ")"
      ],
      "execution_count": null,
      "outputs": []
    },
    {
      "cell_type": "code",
      "metadata": {
        "id": "kjU1kZ2RcioM"
      },
      "source": [
        "class MatrixFactorization(Model):\n",
        "  def __init__(self, embedding_dim, num_users, num_items):\n",
        "    super().__init__()\n",
        "    self.user_embedding = layers.Embedding(num_users, embedding_dim,\n",
        "                                           embeddings_regularizer=regularizers.l2(1e-4))\n",
        "    \n",
        "    self.item_embedding = layers.Embedding(num_items, embedding_dim,\n",
        "                                           embeddings_regularizer=regularizers.l2(1e-4))\n",
        "    \n",
        "    self.user_bias = layers.Embedding(num_users, 1)\n",
        "    self.item_bias = layers.Embedding(num_items, 1)\n",
        "\n",
        "    self.dot = layers.Dot(1)\n",
        "\n",
        "  def call(self, inputs):\n",
        "    user_row = self.user_embedding(inputs[:, 0])\n",
        "    item_row = self.item_embedding(inputs[:, 1])\n",
        "    user_bias = self.user_bias(inputs[:, 0])\n",
        "    item_bias = self.item_bias(inputs[:, 1])\n",
        "    outputs = self.dot([user_row, item_row]) + user_bias + item_bias\n",
        "    outputs = tf.nn.sigmoid(outputs)\n",
        "    outputs = outputs * 4 + 1\n",
        "    return outputs\n",
        "\n",
        "model = MatrixFactorization(32, num_users, num_items)\n",
        "\n",
        "model.compile(\n",
        "    optimizer=optimizers.Adam(learning_rate=0.001),\n",
        "    loss='mse',\n",
        "    metrics=[metrics.RootMeanSquaredError()]\n",
        ")"
      ],
      "execution_count": null,
      "outputs": []
    },
    {
      "cell_type": "code",
      "metadata": {
        "colab": {
          "base_uri": "https://localhost:8080/"
        },
        "id": "k7YwkcaoqCyD",
        "outputId": "2a0fc9b9-d656-4790-b0f9-f15c91be0d35"
      },
      "source": [
        "history = model.fit(\n",
        "    x=x_train,\n",
        "    y=y_train,\n",
        "    batch_size=128,\n",
        "    epochs=10,\n",
        "    validation_data=(x_test, y_test)\n",
        ")"
      ],
      "execution_count": null,
      "outputs": [
        {
          "output_type": "stream",
          "text": [
            "Epoch 1/10\n",
            "704/704 [==============================] - 3s 3ms/step - loss: 1.3427 - root_mean_squared_error: 1.1558 - val_loss: 1.1105 - val_root_mean_squared_error: 1.0419\n",
            "Epoch 2/10\n",
            "704/704 [==============================] - 2s 2ms/step - loss: 1.0179 - root_mean_squared_error: 0.9844 - val_loss: 0.9919 - val_root_mean_squared_error: 0.9638\n",
            "Epoch 3/10\n",
            "704/704 [==============================] - 2s 2ms/step - loss: 0.9484 - root_mean_squared_error: 0.9367 - val_loss: 0.9580 - val_root_mean_squared_error: 0.9396\n",
            "Epoch 4/10\n",
            "704/704 [==============================] - 2s 2ms/step - loss: 0.9129 - root_mean_squared_error: 0.9128 - val_loss: 0.9396 - val_root_mean_squared_error: 0.9258\n",
            "Epoch 5/10\n",
            "704/704 [==============================] - 2s 2ms/step - loss: 0.8900 - root_mean_squared_error: 0.8971 - val_loss: 0.9288 - val_root_mean_squared_error: 0.9182\n",
            "Epoch 6/10\n",
            "704/704 [==============================] - 2s 2ms/step - loss: 0.8722 - root_mean_squared_error: 0.8857 - val_loss: 0.9214 - val_root_mean_squared_error: 0.9128\n",
            "Epoch 7/10\n",
            "704/704 [==============================] - 2s 2ms/step - loss: 0.8569 - root_mean_squared_error: 0.8758 - val_loss: 0.9155 - val_root_mean_squared_error: 0.9086\n",
            "Epoch 8/10\n",
            "704/704 [==============================] - 2s 2ms/step - loss: 0.8427 - root_mean_squared_error: 0.8664 - val_loss: 0.9108 - val_root_mean_squared_error: 0.9046\n",
            "Epoch 9/10\n",
            "704/704 [==============================] - 2s 2ms/step - loss: 0.8297 - root_mean_squared_error: 0.8572 - val_loss: 0.9091 - val_root_mean_squared_error: 0.9017\n",
            "Epoch 10/10\n",
            "704/704 [==============================] - 2s 2ms/step - loss: 0.8176 - root_mean_squared_error: 0.8479 - val_loss: 0.9091 - val_root_mean_squared_error: 0.8993\n"
          ],
          "name": "stdout"
        }
      ]
    },
    {
      "cell_type": "code",
      "metadata": {
        "id": "NRC6ISYtCNWg",
        "colab": {
          "base_uri": "https://localhost:8080/",
          "height": 279
        },
        "outputId": "f1b1bf21-5ce4-424d-941b-24fb71c47406"
      },
      "source": [
        "plt.plot(history.history[\"loss\"])\n",
        "plt.plot(history.history[\"val_loss\"])\n",
        "plt.plot(history.history[\"root_mean_squared_error\"])\n",
        "plt.plot(history.history[\"val_root_mean_squared_error\"])\n",
        "plt.ylabel(\"loss\")\n",
        "plt.xlabel(\"epoch\")\n",
        "plt.legend([\"train\", \"test\", \"rmse\", \"test rmse\"], loc=\"upper right\")\n",
        "plt.show()"
      ],
      "execution_count": null,
      "outputs": [
        {
          "output_type": "display_data",
          "data": {
            "image/png": "[encoded data removed]",
            "text/plain": [
              "<Figure size 432x288 with 1 Axes>"
            ]
          },
          "metadata": {
            "tags": [],
            "needs_background": "light"
          }
        }
      ]
    }
  ]
}