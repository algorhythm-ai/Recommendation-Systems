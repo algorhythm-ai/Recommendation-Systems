{
  "nbformat": 4,
  "nbformat_minor": 0,
  "metadata": {
    "colab": {
      "name": "AutoRec.ipynb",
      "provenance": [],
      "collapsed_sections": []
    },
    "kernelspec": {
      "name": "python3",
      "display_name": "Python 3"
    },
    "language_info": {
      "name": "python"
    }
  },
  "cells": [
    {
      "cell_type": "code",
      "metadata": {
        "id": "N22ZqyCHuFeT"
      },
      "source": [
        "import tensorflow as tf\n",
        "from tensorflow.keras import Model, layers, regularizers, optimizers, metrics\n",
        "import numpy as np\n",
        "import matplotlib.pyplot as plt\n",
        "import pandas as pd\n",
        "import os\n",
        "import requests\n",
        "import io\n",
        "from zipfile import ZipFile"
      ],
      "execution_count": null,
      "outputs": []
    },
    {
      "cell_type": "code",
      "metadata": {
        "id": "BAaufzERaNqR"
      },
      "source": [
        "url = 'https://files.grouplens.org/datasets/movielens/ml-100k.zip'\n",
        "r = requests.get(url)\n",
        "z = ZipFile(io.BytesIO(r.content))\n",
        "z.extractall()"
      ],
      "execution_count": null,
      "outputs": []
    },
    {
      "cell_type": "code",
      "metadata": {
        "id": "y--cR5pqaO51"
      },
      "source": [
        "names = ['user_id', 'item_id', 'rating', 'timestamp']\n",
        "data = pd.read_csv('./ml-100k/u.data', '\\t', names=names)\n",
        "num_users = len(data.user_id.unique())\n",
        "num_items = len(data.item_id.unique())\n",
        "\n",
        "data = data.sample(frac=1)\n",
        "train_indices = int(0.9 * data.shape[0])\n",
        "\n",
        "train_data = data[:train_indices]\n",
        "test_data = data[train_indices:]\n",
        "\n",
        "train_rating_matrix = np.zeros((num_items, num_users))\n",
        "test_rating_matrix = np.zeros((num_items, num_users))\n",
        "\n",
        "for row in train_data.itertuples():\n",
        "  user_id, item_id = row[1], row[2]\n",
        "  train_rating_matrix[item_id-1][user_id-1] = 1.\n",
        "\n",
        "for row in test_data.itertuples():\n",
        "  test_rating_matrix[item_id-1][user_id-1] = 1."
      ],
      "execution_count": null,
      "outputs": []
    },
    {
      "cell_type": "code",
      "metadata": {
        "id": "f8ktPMEnaQiO"
      },
      "source": [
        "class AutoRec(Model):\n",
        "  def __init__(self, num_hidden, num_users):\n",
        "    super().__init__()\n",
        "\n",
        "    self.encoder = layers.Dense(num_hidden,\n",
        "                                kernel_regularizer=regularizers.l2(1e-5),\n",
        "                                activation='sigmoid')\n",
        "    \n",
        "    self.decoder = layers.Dense(num_users,\n",
        "                                kernel_regularizer=regularizers.l2(1e-5))\n",
        "\n",
        "  def call(self, inputs, training=None):\n",
        "    hidden = self.encoder(inputs)\n",
        "    outputs = self.decoder(hidden)\n",
        "    outputs = tf.nn.sigmoid(outputs)\n",
        "    outputs = outputs * 4 + 1\n",
        "    if training:\n",
        "      return outputs * tf.sign(inputs)\n",
        "    else:\n",
        "      return outputs\n",
        "\n",
        "model = AutoRec(500, num_users)\n",
        "\n",
        "model.compile(\n",
        "    optimizer=optimizers.Adam(learning_rate=0.001),\n",
        "    loss='mse',\n",
        "    metrics=[metrics.RootMeanSquaredError()]\n",
        ")"
      ],
      "execution_count": null,
      "outputs": []
    },
    {
      "cell_type": "code",
      "metadata": {
        "id": "uH3zuAykl_Mu",
        "colab": {
          "base_uri": "https://localhost:8080/"
        },
        "outputId": "96f053b6-d5d4-413b-a51a-4a08dda6380c"
      },
      "source": [
        "history = model.fit(\n",
        "    x=train_rating_matrix,\n",
        "    y=train_rating_matrix,\n",
        "    batch_size=256,\n",
        "    epochs=25\n",
        ")"
      ],
      "execution_count": null,
      "outputs": [
        {
          "output_type": "stream",
          "text": [
            "Epoch 1/25\n",
            "7/7 [==============================] - 1s 38ms/step - loss: 0.1327 - root_mean_squared_error: 0.3459\n",
            "Epoch 2/25\n",
            "7/7 [==============================] - 0s 38ms/step - loss: 0.0220 - root_mean_squared_error: 0.0935\n",
            "Epoch 3/25\n",
            "7/7 [==============================] - 0s 37ms/step - loss: 0.0141 - root_mean_squared_error: 0.0270\n",
            "Epoch 4/25\n",
            "7/7 [==============================] - 0s 36ms/step - loss: 0.0135 - root_mean_squared_error: 0.0140\n",
            "Epoch 5/25\n",
            "7/7 [==============================] - 0s 38ms/step - loss: 0.0131 - root_mean_squared_error: 0.0102\n",
            "Epoch 6/25\n",
            "7/7 [==============================] - 0s 36ms/step - loss: 0.0127 - root_mean_squared_error: 0.0087\n",
            "Epoch 7/25\n",
            "7/7 [==============================] - 0s 36ms/step - loss: 0.0122 - root_mean_squared_error: 0.0082\n",
            "Epoch 8/25\n",
            "7/7 [==============================] - 0s 44ms/step - loss: 0.0117 - root_mean_squared_error: 0.0080\n",
            "Epoch 9/25\n",
            "7/7 [==============================] - 0s 41ms/step - loss: 0.0112 - root_mean_squared_error: 0.0081\n",
            "Epoch 10/25\n",
            "7/7 [==============================] - 0s 43ms/step - loss: 0.0108 - root_mean_squared_error: 0.0083\n",
            "Epoch 11/25\n",
            "7/7 [==============================] - 0s 42ms/step - loss: 0.0103 - root_mean_squared_error: 0.0086\n",
            "Epoch 12/25\n",
            "7/7 [==============================] - 0s 46ms/step - loss: 0.0099 - root_mean_squared_error: 0.0089\n",
            "Epoch 13/25\n",
            "7/7 [==============================] - 0s 43ms/step - loss: 0.0095 - root_mean_squared_error: 0.0093\n",
            "Epoch 14/25\n",
            "7/7 [==============================] - 0s 44ms/step - loss: 0.0091 - root_mean_squared_error: 0.0097\n",
            "Epoch 15/25\n",
            "7/7 [==============================] - 0s 38ms/step - loss: 0.0087 - root_mean_squared_error: 0.0101\n",
            "Epoch 16/25\n",
            "7/7 [==============================] - 0s 37ms/step - loss: 0.0084 - root_mean_squared_error: 0.0105\n",
            "Epoch 17/25\n",
            "7/7 [==============================] - 0s 35ms/step - loss: 0.0080 - root_mean_squared_error: 0.0109\n",
            "Epoch 18/25\n",
            "7/7 [==============================] - 0s 38ms/step - loss: 0.0077 - root_mean_squared_error: 0.0112\n",
            "Epoch 19/25\n",
            "7/7 [==============================] - 0s 45ms/step - loss: 0.0075 - root_mean_squared_error: 0.0116\n",
            "Epoch 20/25\n",
            "7/7 [==============================] - 0s 44ms/step - loss: 0.0072 - root_mean_squared_error: 0.0119\n",
            "Epoch 21/25\n",
            "7/7 [==============================] - 0s 42ms/step - loss: 0.0069 - root_mean_squared_error: 0.0121\n",
            "Epoch 22/25\n",
            "7/7 [==============================] - 0s 44ms/step - loss: 0.0067 - root_mean_squared_error: 0.0124\n",
            "Epoch 23/25\n",
            "7/7 [==============================] - 0s 44ms/step - loss: 0.0065 - root_mean_squared_error: 0.0126\n",
            "Epoch 24/25\n",
            "7/7 [==============================] - 0s 44ms/step - loss: 0.0063 - root_mean_squared_error: 0.0128\n",
            "Epoch 25/25\n",
            "7/7 [==============================] - 0s 38ms/step - loss: 0.0061 - root_mean_squared_error: 0.0129\n"
          ],
          "name": "stdout"
        }
      ]
    },
    {
      "cell_type": "code",
      "metadata": {
        "id": "QeCO-WuamMpr",
        "colab": {
          "base_uri": "https://localhost:8080/"
        },
        "outputId": "1897839f-4cfb-4cbf-9cf0-76fc6c5100b6"
      },
      "source": [
        "plt.plot(history.history[\"loss\"])\n",
        "plt.plot(history.history[\"root_mean_squared_error\"])\n",
        "plt.ylabel(\"loss\")\n",
        "plt.xlabel(\"epoch\")\n",
        "plt.legend([\"train\", \"rmse\"], loc=\"upper right\")\n",
        "plt.show()"
      ],
      "execution_count": null,
      "outputs": [
        {
          "output_type": "display_data",
          "data": {
            "image/png": "[encoded data removed]",
            "text/plain": [
              "<Figure size 432x288 with 1 Axes>"
            ]
          },
          "metadata": {
            "tags": [],
            "needs_background": "light"
          }
        }
      ]
    }
  ]
}