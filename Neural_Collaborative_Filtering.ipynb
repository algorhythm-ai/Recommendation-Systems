{
  "nbformat": 4,
  "nbformat_minor": 0,
  "metadata": {
    "colab": {
      "name": "Neural Collaborative Filtering.ipynb",
      "provenance": [],
      "collapsed_sections": []
    },
    "kernelspec": {
      "display_name": "Python 3",
      "name": "python3"
    },
    "language_info": {
      "name": "python"
    }
  },
  "cells": [
    {
      "cell_type": "code",
      "metadata": {
        "id": "tAPQKafuQeU4"
      },
      "source": [
        "# Link to paper: https://arxiv.org/pdf/1708.05031.pdf\n",
        "# Adapted from https://github.com/hexiangnan/neural_collaborative_filtering/blob/master/NeuMF.py\n",
        "\n",
        "import tensorflow as tf\n",
        "from tensorflow.keras import Model, layers, models, initializers, regularizers, optimizers\n",
        "import numpy as np\n",
        "import matplotlib.pyplot as plt\n",
        "import pandas as pd\n",
        "import random\n",
        "import math\n",
        "import heapq\n",
        "import os\n",
        "import requests\n",
        "import io\n",
        "from zipfile import ZipFile"
      ],
      "execution_count": null,
      "outputs": []
    },
    {
      "cell_type": "code",
      "metadata": {
        "id": "OJpeZIYz_nas"
      },
      "source": [
        "url = 'https://files.grouplens.org/datasets/movielens/ml-100k.zip'\n",
        "r = requests.get(url)\n",
        "z = ZipFile(io.BytesIO(r.content))\n",
        "z.extractall()"
      ],
      "execution_count": null,
      "outputs": []
    },
    {
      "cell_type": "code",
      "metadata": {
        "id": "CTXq1HVP_rvZ"
      },
      "source": [
        "names = ['user_id', 'item_id', 'rating', 'timestamp']\n",
        "data = pd.read_csv('./ml-100k/u.data', '\\t', names=names)\n",
        "num_users = len(data.user_id.unique())\n",
        "num_items = len(data.item_id.unique())\n",
        "\n",
        "data = data.sample(frac=1)\n",
        "\n",
        "train_data = []\n",
        "test_data = {}\n",
        "\n",
        "for row in data.itertuples():\n",
        "  u, i, t = row[1], row[2], row[4]\n",
        "  train_data.append((u, i, t))\n",
        "  if u not in test_data or t > test_data[u][-1]:\n",
        "    test_data[u] = (u, i, t)\n",
        "\n",
        "for i in test_data.values():\n",
        "  train_data.remove(i)\n",
        "\n",
        "train_data = pd.DataFrame(train_data, columns=['user_id', 'item_id', 'timestamp'])\n",
        "test_data = pd.DataFrame(test_data.values(), columns=['user_id', 'item_id', 'timestamp'])\n",
        "\n",
        "train_negative_instances = {u : [i for i in range(num_items)] for u in range(num_users)}\n",
        "test_negative_instances = {u : [i for i in range(num_items)] for u in range(num_users)}\n",
        "\n",
        "for row in train_data.itertuples():\n",
        "  user_id, item_id = row[1], row[2]\n",
        "  train_negative_instances[user_id-1].remove(item_id-1)\n",
        "\n",
        "for row in test_data.itertuples():\n",
        "  user_id, item_id = row[1], row[2]\n",
        "  test_negative_instances[user_id-1].remove(item_id-1)\n",
        "\n",
        "def get_dataset(data, negative_instances, num_negatives=4):\n",
        "  user_input, item_input, label = [], [], []\n",
        "  for row in data.itertuples():\n",
        "    user_id, item_id = row[1], row[2]\n",
        "    user_input.append(user_id-1)\n",
        "    item_input.append(item_id-1)\n",
        "    label.append(1)\n",
        "\n",
        "    i = random.sample(negative_instances[user_id-1], num_negatives)\n",
        "    user_input.extend([user_id-1]*num_negatives)\n",
        "    item_input.extend(i)\n",
        "    label.extend([0]*num_negatives)\n",
        "\n",
        "  return np.array([user_input, item_input]).T, np.array(label)"
      ],
      "execution_count": null,
      "outputs": []
    },
    {
      "cell_type": "code",
      "metadata": {
        "id": "OAtod5c4TY7R"
      },
      "source": [
        "class GMF(Model):\n",
        "  def __init__(self, num_users, num_items, embedding_dim):\n",
        "    super().__init__()\n",
        "    self.embedding_dim = embedding_dim\n",
        "    self.user_embedding = layers.Embedding(num_users, embedding_dim,\n",
        "                                           embeddings_regularizer=regularizers.l2(1e-5))\n",
        "    \n",
        "    self.item_embedding = layers.Embedding(num_items, embedding_dim,\n",
        "                                           embeddings_regularizer=regularizers.l2(1e-5))\n",
        "    \n",
        "    self.out = layers.Dense(1, activation='sigmoid')\n",
        "\n",
        "  def call(self, inputs):\n",
        "    p = self.user_embedding(inputs[:, 0])\n",
        "    q = self.item_embedding(inputs[:, 1])\n",
        "    outputs = self.out(p * q)\n",
        "    return outputs\n",
        "\n",
        "gmf = GMF(num_users, num_items, 10)\n",
        "\n",
        "gmf.compile(\n",
        "    optimizer=optimizers.Adam(0.001),\n",
        "    loss='binary_crossentropy'\n",
        ")"
      ],
      "execution_count": null,
      "outputs": []
    },
    {
      "cell_type": "code",
      "metadata": {
        "colab": {
          "base_uri": "https://localhost:8080/"
        },
        "id": "9jjdQYcT5hYs",
        "outputId": "7252cc66-38a7-4a56-cb5c-a277d0396df2"
      },
      "source": [
        "gmf_loss = []\n",
        "\n",
        "for _ in range(10):\n",
        "  x_train, y_train = get_dataset(train_data, train_negative_instances)\n",
        "  gmf_history = gmf.fit(\n",
        "      x=x_train,\n",
        "      y=y_train,\n",
        "      batch_size=256,\n",
        "      epochs=1\n",
        "  )\n",
        "\n",
        "  gmf_loss.append(gmf_history.history[\"loss\"][0])"
      ],
      "execution_count": null,
      "outputs": [
        {
          "output_type": "stream",
          "text": [
            "1935/1935 [==============================] - 3s 1ms/step - loss: 0.4644\n",
            "1935/1935 [==============================] - 3s 1ms/step - loss: 0.3680\n",
            "1935/1935 [==============================] - 3s 2ms/step - loss: 0.3484\n",
            "1935/1935 [==============================] - 3s 2ms/step - loss: 0.3313\n",
            "1935/1935 [==============================] - 3s 2ms/step - loss: 0.3166\n",
            "1935/1935 [==============================] - 3s 1ms/step - loss: 0.3086\n",
            "1935/1935 [==============================] - 3s 1ms/step - loss: 0.3004\n",
            "1935/1935 [==============================] - 3s 1ms/step - loss: 0.2895\n",
            "1935/1935 [==============================] - 3s 1ms/step - loss: 0.2810\n",
            "1935/1935 [==============================] - 3s 1ms/step - loss: 0.2755\n"
          ],
          "name": "stdout"
        }
      ]
    },
    {
      "cell_type": "code",
      "metadata": {
        "id": "yNcsu8ji3qk9"
      },
      "source": [
        "class MLP(Model):\n",
        "  def __init__(self, num_users, num_items, embedding_dim):\n",
        "    super().__init__()\n",
        "    self.embedding_dim = embedding_dim\n",
        "    self.user_embedding = layers.Embedding(num_users, embedding_dim,\n",
        "                                           embeddings_regularizer=regularizers.l2(1e-5))\n",
        "    \n",
        "    self.item_embedding = layers.Embedding(num_items, embedding_dim,\n",
        "                                           embeddings_regularizer=regularizers.l2(1e-5))\n",
        "\n",
        "    self.layer_dims = [64,32,16,8]\n",
        "    self.mlp = models.Sequential()\n",
        "    for layer_dim in self.layer_dims:\n",
        "      self.mlp.add(layers.Dense(layer_dim, activation='relu',\n",
        "                                kernel_regularizer=regularizers.l2(1e-5)))\n",
        "    \n",
        "    self.out = layers.Dense(1, activation='sigmoid')\n",
        "   \n",
        "  def call(self, inputs):\n",
        "    p = self.user_embedding(inputs[:, 0])\n",
        "    q = self.item_embedding(inputs[:, 1])\n",
        "    concat = tf.concat([p, q], axis=1)\n",
        "    outputs = self.out(self.mlp(concat))\n",
        "    return outputs\n",
        "\n",
        "mlp = MLP(num_users, num_items, 32)\n",
        "\n",
        "mlp.compile(\n",
        "    optimizer=optimizers.Adam(0.001),\n",
        "    loss='binary_crossentropy'\n",
        ")"
      ],
      "execution_count": null,
      "outputs": []
    },
    {
      "cell_type": "code",
      "metadata": {
        "colab": {
          "base_uri": "https://localhost:8080/"
        },
        "id": "8IEN96HU68-Z",
        "outputId": "120c5761-af60-4d68-882b-59b140460363"
      },
      "source": [
        "mlp_loss = []\n",
        "\n",
        "for _ in range(10):\n",
        "  x_train, y_train = get_dataset(train_data, train_negative_instances)\n",
        "  mlp_history = mlp.fit(\n",
        "      x=x_train,\n",
        "      y=y_train,\n",
        "      batch_size=256,\n",
        "      epochs=1\n",
        "  )\n",
        "\n",
        "  mlp_loss.append(mlp_history.history[\"loss\"][0])"
      ],
      "execution_count": null,
      "outputs": [
        {
          "output_type": "stream",
          "text": [
            "1935/1935 [==============================] - 6s 3ms/step - loss: 0.3705\n",
            "1935/1935 [==============================] - 5s 3ms/step - loss: 0.3228\n",
            "1935/1935 [==============================] - 5s 3ms/step - loss: 0.2993\n",
            "1935/1935 [==============================] - 5s 3ms/step - loss: 0.2883\n",
            "1935/1935 [==============================] - 5s 3ms/step - loss: 0.2800\n",
            "1935/1935 [==============================] - 5s 3ms/step - loss: 0.2721\n",
            "1935/1935 [==============================] - 5s 3ms/step - loss: 0.2648\n",
            "1935/1935 [==============================] - 5s 3ms/step - loss: 0.2599\n",
            "1935/1935 [==============================] - 5s 3ms/step - loss: 0.2551\n",
            "1935/1935 [==============================] - 5s 3ms/step - loss: 0.2495\n"
          ],
          "name": "stdout"
        }
      ]
    },
    {
      "cell_type": "code",
      "metadata": {
        "id": "_dQhREEDUKKg"
      },
      "source": [
        "class NeuMF(Model):\n",
        "  def __init__(self, gmf, mlp):\n",
        "    super().__init__()\n",
        "    self.gmf_user_embedding = layers.Embedding(num_users, gmf.embedding_dim,\n",
        "                                               embeddings_initializer=initializers.constant(gmf.user_embedding.get_weights()),\n",
        "                                               embeddings_regularizer=regularizers.l2(1e-5))\n",
        "    \n",
        "    self.mlp_user_embedding = layers.Embedding(num_users, mlp.embedding_dim,\n",
        "                                               embeddings_initializer=initializers.constant(mlp.user_embedding.get_weights()),\n",
        "                                               embeddings_regularizer=regularizers.l2(1e-5))\n",
        "    \n",
        "    self.gmf_item_embedding = layers.Embedding(num_items, gmf.embedding_dim,\n",
        "                                               embeddings_initializer=initializers.constant(gmf.item_embedding.get_weights()),\n",
        "                                               embeddings_regularizer=regularizers.l2(1e-5))\n",
        "    \n",
        "    self.mlp_item_embedding = layers.Embedding(num_items, mlp.embedding_dim,\n",
        "                                               embeddings_initializer=initializers.constant(mlp.item_embedding.get_weights()),\n",
        "                                               embeddings_regularizer=regularizers.l2(1e-5))\n",
        "    \n",
        "    self.mlp_layers = models.Sequential()\n",
        "    for idx, layer_dim in enumerate(mlp.layer_dims):\n",
        "      kernel_init = initializers.constant(mlp.mlp.get_layer(index=idx).get_weights()[0])\n",
        "      bias_init = initializers.constant(mlp.mlp.get_layer(index=idx).get_weights()[1])\n",
        "      self.mlp_layers.add(layers.Dense(layer_dim, activation='relu',\n",
        "                                       kernel_initializer=kernel_init,\n",
        "                                       bias_initializer=bias_init,\n",
        "                                       kernel_regularizer=regularizers.l2(1e-5)))\n",
        "    \n",
        "    new_weights = initializers.constant(tf.concat([gmf.out.get_weights()[0], mlp.out.get_weights()[0]], axis=0) * 0.5)\n",
        "    new_bias = initializers.constant((gmf.out.get_weights()[1] + mlp.out.get_weights()[1]) * 0.5)\n",
        "    self.out = layers.Dense(1, activation='sigmoid', kernel_initializer=new_weights, bias_initializer=new_bias)\n",
        "    \n",
        "  def call(self, inputs):\n",
        "    gmf_p = self.gmf_user_embedding(inputs[:, 0])\n",
        "    gmf_q = self.gmf_item_embedding(inputs[:, 1])\n",
        "    mlp_p = self.mlp_user_embedding(inputs[:, 0])\n",
        "    mlp_q = self.mlp_item_embedding(inputs[:, 1])\n",
        "\n",
        "    gmf_out = gmf_p * gmf_q\n",
        "    mlp_out = self.mlp_layers(tf.concat([mlp_p, mlp_q], axis=1))\n",
        "\n",
        "    concat = tf.concat([gmf_out, mlp_out], axis=1)\n",
        "    outputs = self.out(concat)\n",
        "    return outputs\n",
        "\n",
        "model = NeuMF(gmf, mlp)\n",
        "\n",
        "model.compile(\n",
        "    optimizer=optimizers.Adam(0.001),\n",
        "    loss='binary_crossentropy'\n",
        ")"
      ],
      "execution_count": null,
      "outputs": []
    },
    {
      "cell_type": "code",
      "metadata": {
        "id": "wUcBINuo7HQS",
        "colab": {
          "base_uri": "https://localhost:8080/"
        },
        "outputId": "2d80cef4-63ce-4363-e1b5-f16a509a0d8d"
      },
      "source": [
        "loss = []\n",
        "\n",
        "for _ in range(10):\n",
        "  x_train, y_train = get_dataset(train_data, train_negative_instances)\n",
        "  history = model.fit(\n",
        "      x=x_train,\n",
        "      y=y_train,\n",
        "      batch_size=256,\n",
        "      epochs=1\n",
        "  )\n",
        "\n",
        "  loss.append(history.history[\"loss\"][0])"
      ],
      "execution_count": null,
      "outputs": [
        {
          "output_type": "stream",
          "text": [
            "1935/1935 [==============================] - 7s 3ms/step - loss: 0.2579\n",
            "1935/1935 [==============================] - 6s 3ms/step - loss: 0.2509\n",
            "1935/1935 [==============================] - 6s 3ms/step - loss: 0.2440\n",
            "1935/1935 [==============================] - 6s 3ms/step - loss: 0.2388\n",
            "1935/1935 [==============================] - 6s 3ms/step - loss: 0.2337\n",
            "1935/1935 [==============================] - 6s 3ms/step - loss: 0.2286\n",
            "1935/1935 [==============================] - 6s 3ms/step - loss: 0.2247\n",
            "1935/1935 [==============================] - 6s 3ms/step - loss: 0.2214\n",
            "1935/1935 [==============================] - 6s 3ms/step - loss: 0.2184\n",
            "1935/1935 [==============================] - 6s 3ms/step - loss: 0.2160\n"
          ],
          "name": "stdout"
        }
      ]
    },
    {
      "cell_type": "code",
      "metadata": {
        "id": "Wj6IoKT9Z6i4"
      },
      "source": [
        "def hit_ratio(rank_list, item):\n",
        "  if item in rank_list:\n",
        "    return 1\n",
        "  return 0\n",
        "\n",
        "def ndcg(rank_list, item):\n",
        "  for i in range(len(rank_list)):\n",
        "    if rank_list[i] == item:\n",
        "      return math.log(2) / math.log(i+2)\n",
        "  return 0\n",
        "\n",
        "def evaluate():\n",
        "  hit_ratios, ndcgs = [], []\n",
        "  for row in test_data.itertuples():\n",
        "    users, items = [], []\n",
        "    u, i = row[1]-1, row[2]-1\n",
        "\n",
        "    users.append(u)\n",
        "    items.append(i)\n",
        "\n",
        "    users.extend([u]*100)\n",
        "    items.extend(random.sample(test_negative_instances[u], 100))\n",
        "\n",
        "    predictions = model(np.array([users, items]).T)\n",
        "    map_item_prediction = {item : predictions[idx] for idx, item in enumerate(items)}\n",
        "    rank_list = heapq.nlargest(10, map_item_prediction, map_item_prediction.get)\n",
        "\n",
        "    hit_ratios.append(hit_ratio(rank_list, i))\n",
        "    ndcgs.append(ndcg(rank_list, i))\n",
        "  \n",
        "  print(f'HR: {np.mean(hit_ratios)}, NDCG: {np.mean(ndcgs)}')"
      ],
      "execution_count": null,
      "outputs": []
    },
    {
      "cell_type": "code",
      "metadata": {
        "id": "Knu6scK77PMX",
        "colab": {
          "base_uri": "https://localhost:8080/",
          "height": 296
        },
        "outputId": "9112f99f-2e35-4622-e3e4-9c58e466e4df"
      },
      "source": [
        "plt.plot(gmf_loss)\n",
        "plt.plot(mlp_loss)\n",
        "plt.plot(loss)\n",
        "plt.ylabel(\"loss\")\n",
        "plt.xlabel(\"epoch\")\n",
        "plt.legend([\"GMF\", \"MLP\", \"NeuMF\"], loc=\"upper right\")\n",
        "plt.show()\n",
        "\n",
        "evaluate()"
      ],
      "execution_count": null,
      "outputs": [
        {
          "output_type": "display_data",
          "data": {
            "image/png": "[encoded data removed]",
            "text/plain": [
              "<Figure size 432x288 with 1 Axes>"
            ]
          },
          "metadata": {
            "tags": [],
            "needs_background": "light"
          }
        },
        {
          "output_type": "stream",
          "text": [
            "HR: 0.48886532343584305, NDCG: 0.23844318782177581\n"
          ],
          "name": "stdout"
        }
      ]
    }
  ]
}